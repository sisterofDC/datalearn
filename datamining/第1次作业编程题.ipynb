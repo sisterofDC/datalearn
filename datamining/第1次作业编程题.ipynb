{
 "cells": [
  {
   "cell_type": "markdown",
   "metadata": {},
   "source": [
    "## 数据挖掘上机作业\n",
    "### 【 python 基础】数据操作\n",
    "#### **（请在#下面问题的空白处写出代码并输出结果）**"
   ]
  },
  {
   "cell_type": "markdown",
   "metadata": {},
   "source": [
    "---"
   ]
  },
  {
   "cell_type": "markdown",
   "metadata": {},
   "source": [
    "1.1  下面有三组数据：\n",
    "\n",
    "    1, 2, 3, 4, 5 \n",
    "    a, b, c, d\n",
    "    physics, chemistry, 1997, 2000"
   ]
  },
  {
   "cell_type": "code",
   "execution_count": null,
   "metadata": {},
   "outputs": [],
   "source": [
    "#(1)请将其写入列表。\n"
   ]
  },
  {
   "cell_type": "markdown",
   "metadata": {},
   "source": [
    "1.2  学生成绩。从某大学统计系的学生中随机抽取24人，对数学和统计学的考试成绩进行调查，数据如表下表所列。\n",
    "\n",
    "\n",
    "| 编号 | 性别 | 数学 | 统计学 |\n",
    "|------|------|------|--------|\n",
    "| 1    | M    | 81   | 72     |\n",
    "| 2    | F    | 90   | 90     |\n",
    "| 3    | F    | 91   | 96     |\n",
    "| 4    | M    | 74   | 68     |\n",
    "| 5    | F    | 70   | 82     |\n",
    "| 6    | F    | 73   | 78     |\n",
    "| 7    | M    | 88   | 89     |\n",
    "| 8    | M    | 78   | 82     |\n",
    "| 9    | M    | 95   | 96     |\n",
    "| 10   | F    | 63   | 75     |\n",
    "| 11   | F    | 85   | 86     |\n",
    "| 12   | M    | 60   | 71     |\n",
    "| 13   | F    | 83   | 78     |\n",
    "| 14   | F    | 81   | 94     |\n",
    "| 15   | M    | 77   | 73     |\n",
    "| 16   | M    | 60   | 66     |\n",
    "| 17   | F    | 66   | 58     |\n",
    "| 18   | M    | 84   | 87     |\n",
    "| 19   | F    | 80   | 86     |\n",
    "| 20   | F    | 85   | 84     |\n",
    "| 21   | M    | 70   | 82     |\n",
    "| 22   | M    | 54   | 56     |\n",
    "| 23   | F    | 93   | 98     |\n",
    "| 24   | M    | 68   | 76     |\n",
    "\n"
   ]
  },
  {
   "cell_type": "code",
   "execution_count": null,
   "metadata": {},
   "outputs": [],
   "source": [
    "#(1)试将这组数据写入列表。\n"
   ]
  },
  {
   "cell_type": "code",
   "execution_count": null,
   "metadata": {},
   "outputs": [],
   "source": [
    "#(2)用Python获取男性（M）的数学成绩以及女性（F）的统计学成绩。\n"
   ]
  },
  {
   "cell_type": "code",
   "execution_count": null,
   "metadata": {},
   "outputs": [],
   "source": [
    "#(3)请用Python将数学成绩从大到小排序并输出排序所对应的第一列编号。\n"
   ]
  },
  {
   "cell_type": "code",
   "execution_count": null,
   "metadata": {},
   "outputs": [],
   "source": [
    "#(4)请用Python将学生的数学成绩划分为五个分数段：51-60,61-70,71-80,81-90,91-100，并计算数学成绩的分组中位数。\n"
   ]
  }
 ],
 "metadata": {
  "kernelspec": {
   "display_name": "Python 3 (ipykernel)",
   "language": "python",
   "name": "python3"
  },
  "language_info": {
   "codemirror_mode": {
    "name": "ipython",
    "version": 3
   },
   "file_extension": ".py",
   "mimetype": "text/x-python",
   "name": "python",
   "nbconvert_exporter": "python",
   "pygments_lexer": "ipython3",
   "version": "3.9.7"
  }
 },
 "nbformat": 4,
 "nbformat_minor": 4
}
